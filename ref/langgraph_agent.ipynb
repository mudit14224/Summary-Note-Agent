{
 "cells": [
  {
   "cell_type": "code",
   "execution_count": 6,
   "metadata": {},
   "outputs": [],
   "source": [
    "# Imports\n",
    "import json \n",
    "from langchain_core.prompts import ChatPromptTemplate, PromptTemplate\n",
    "from langchain_ollama.llms import OllamaLLM\n",
    "from langchain_core.pydantic_v1 import BaseModel, Field\n",
    "from typing import List, Dict\n",
    "from langchain_experimental.llms.ollama_functions import OllamaFunctions\n",
    "from langchain_openai import ChatOpenAI\n",
    "from langchain_core.output_parsers import StrOutputParser\n",
    "from typing_extensions import TypedDict\n",
    "from IPython.display import Image\n",
    "from pprint import pprint\n",
    "import os\n"
   ]
  },
  {
   "cell_type": "code",
   "execution_count": 7,
   "metadata": {},
   "outputs": [],
   "source": [
    "os.environ['OPENAI_API_KEY'] = 'sk-proj-ITGhy3LPfyvYrxbBci8pT3BlbkFJP5k2rqmOZhAdrOncxu9X'\n",
    "os.environ[\"LANGCHAIN_TRACING_V2\"] = \"true\"\n",
    "os.environ[\"LANGCHAIN_ENDPOINT\"] = \"https://api.smith.langchain.com\"\n",
    "os.environ[\"LANGCHAIN_API_KEY\"] = \"<your-api-key>\""
   ]
  },
  {
   "cell_type": "markdown",
   "metadata": {},
   "source": [
    "## Chains"
   ]
  },
  {
   "cell_type": "code",
   "execution_count": 8,
   "metadata": {},
   "outputs": [],
   "source": [
    "# Function to create the qa string from the json file\n",
    "def get_qa_string(json_path):\n",
    "    with open(json_path) as f:\n",
    "        data = json.load(f)\n",
    "    n = len(data)\n",
    "    qa_string = \"\"\n",
    "    for i in range(n):\n",
    "        q = data[i]['q']\n",
    "        a = data[i]['a']\n",
    "        string = \"q: \" + q + \"\\n\" + \"a: \" + a\n",
    "        qa_string += string + \"\\n\"\n",
    "    return qa_string"
   ]
  },
  {
   "cell_type": "code",
   "execution_count": 9,
   "metadata": {},
   "outputs": [],
   "source": [
    "qa_string = get_qa_string('filled_form.json')"
   ]
  },
  {
   "cell_type": "code",
   "execution_count": 10,
   "metadata": {},
   "outputs": [],
   "source": [
    "# Chain for splitting the string \n",
    "# Define the Pydantic Object for Function Calling\n",
    "class SymptomCategory(BaseModel):\n",
    "    category: str = Field(description=\"The name of the category\")\n",
    "    questions_and_answers: str = Field(description=\"The Q&A pairs in that category as a single string\")\n",
    "\n",
    "class CategorizedQA(BaseModel):\n",
    "    categories: List[SymptomCategory] = Field(description=\"A list of categorized Q&A pairs\")\n",
    "\n",
    "split_prompt_template = \"\"\"\n",
    "You will receive a list of questions and answers on various topics. Your task is to categorize the Q&A pairs into logical categories based on their content.\n",
    "\n",
    "Here is what you should do:\n",
    "1. Identify the main topics or categories based on the questions and answers. These categories could be related to symptoms, events, activities, preferences, etc.\n",
    "2. Group related questions and answers under the appropriate categories. If a question and answer do not fit well into an existing category, create a new category for them.\n",
    "3. Output the result as a JSON dictionary with the following structure:\n",
    "{{\n",
    "  \"category\": \"Category Name\",\n",
    "  \"questions_and_answers\": {{\n",
    "    \"Vomiting\": \"q: Question 1\\\\na: Answer 1\\\\nq: Question 2\\\\na: Answer 2\",\n",
    "    \"diarrhea\": \"q: Question 3\\\\na: Answer 3\\\\nq: Question 4\\\\na: Answer 4\"\n",
    "  }}\n",
    "}}\n",
    "\n",
    "Here is the list of Q&A pairs:\n",
    "\n",
    "{input_text}\n",
    "\n",
    "Please return the categorized Q&A pairs in JSON format with category names as keys and the relevant Q&A pairs as values.\n",
    "\"\"\"\n",
    "\n",
    "# Create the prompt template\n",
    "split_prompt = PromptTemplate(input_variables=['input_text'], template=split_prompt_template)\n",
    "\n",
    "# Initialize the llm\n",
    "split_llm = ChatOpenAI(model='gpt-4o', temperature=0)\n",
    "split_structured_llm = split_llm.with_structured_output(CategorizedQA)\n",
    "categorize_chain = split_prompt | split_structured_llm\n",
    "\n",
    "split_result = categorize_chain.invoke({'input_text': qa_string})"
   ]
  },
  {
   "cell_type": "code",
   "execution_count": 11,
   "metadata": {},
   "outputs": [],
   "source": [
    "def parse_split_result(result):\n",
    "    # Create a dictionary from the parsed result\n",
    "    categorized_dict: Dict[str, str] = {category.category: category.questions_and_answers for category in result.categories}\n",
    "    string = \"\"\n",
    "    for category in categorized_dict:\n",
    "        string += \"\\n\"\n",
    "        qa = categorized_dict[category]\n",
    "        partial_str = category + \":\\n\" + qa\n",
    "        string += partial_str\n",
    "    return string, categorized_dict"
   ]
  },
  {
   "cell_type": "code",
   "execution_count": 12,
   "metadata": {},
   "outputs": [],
   "source": [
    "categorized_qa, categorized_dict = parse_split_result(result=split_result)"
   ]
  },
  {
   "cell_type": "code",
   "execution_count": 13,
   "metadata": {},
   "outputs": [
    {
     "data": {
      "text/plain": [
       "{'Symptoms Onset': 'q: When did your symptoms start?\\na: Yesterday night',\n",
       " 'Vomiting': 'q: Do you have vomiting?\\na: Yes\\nq: Do you see any blood in the vomit?\\na: No\\nq: Was your vomit green or yellow?\\na: Yes',\n",
       " 'Recreational Drugs': 'q: Have you used any recreational drugs recently?\\na: Yes',\n",
       " 'Motion Sickness': 'q: Have you recently experienced motion sickness from things like amusement park rides, cars, or boats?\\na: No',\n",
       " 'Diarrhea': 'q: Do you have diarrhea?\\na: Yes\\nq: Does the diarrhea occur when fasting?\\na: No\\nq: Does the diarrhea occur at night?\\na: Yes\\nq: Do you experience pain with diarrhea?\\na: No\\nq: When was your last bowel movement?\\na: 3 hours ago\\nq: How many bowel movements are you having per 24hr period?\\na: 3-4\\nq: Is there any blood in your stool?\\na: No\\nq: Is there any mucus in your stool?\\na: Yes\\nq: Do you feel as though you have to rush to the bathroom once you have the urge to have a bowel movement?\\na: Yes',\n",
       " 'Travel History': 'q: Have you recently traveled internationally?\\na: No',\n",
       " 'Household Symptoms': 'q: Does anyone else in your household have the same symptoms?\\na: Yes',\n",
       " 'Symptom Management': 'q: What have you tried for your symptoms?\\na: Taking some probiotics\\nq: Did it help?\\na: No',\n",
       " 'Location': 'q: What state are you currently in (e.g., Wisconsin, Minnesota)?\\na: Wisconsin'}"
      ]
     },
     "execution_count": 13,
     "metadata": {},
     "output_type": "execute_result"
    }
   ],
   "source": [
    "categorized_dict"
   ]
  },
  {
   "cell_type": "code",
   "execution_count": 14,
   "metadata": {},
   "outputs": [
    {
     "data": {
      "text/plain": [
       "SplitGrader(binary_score='correct')"
      ]
     },
     "execution_count": 14,
     "metadata": {},
     "output_type": "execute_result"
    }
   ],
   "source": [
    "### Split Grader\n",
    "\n",
    "# Data Model\n",
    "class SplitGrader(BaseModel):\n",
    "    \"\"\"Binary score to assess if the splits are correct or not and if there is any missing information or hallucinations\"\"\"\n",
    "\n",
    "    binary_score: str = Field(\n",
    "        description=\"A binary indicator ('correct' or 'incorrect') that evaluates if the Q&A pairs are categorized correctly without any missing information or hallucinations.\"\n",
    "    )\n",
    "\n",
    "# Initialize the llm\n",
    "split_grader_llm = ChatOpenAI(model='gpt-4o', temperature=0)\n",
    "split_grader_structured_llm_grader = split_grader_llm.with_structured_output(SplitGrader)\n",
    "\n",
    "split_grader_system = \"\"\"You are a grader assessing whether the question answer pairs have been correctly categorized into categories. \\n\n",
    "You must also check if all the questions have been categorized. Check for hallucinations as well. \\n\n",
    "Give a binary score 'correct' or 'incorrect'. 'correct' means that the Q&A pairs are categorized correctly without any missing information or hallucinations.\n",
    "\"\"\"\n",
    "answer_prompt = ChatPromptTemplate.from_messages(\n",
    "    [\n",
    "        (\"system\", split_grader_system), \n",
    "        (\"human\", \"Q&A Input \\n\\n {qa_string} \\n\\n Categorized Q&A: {categorized_qa}\")\n",
    "    ]\n",
    ")\n",
    "\n",
    "split_grader = answer_prompt | split_grader_structured_llm_grader\n",
    "split_grader.invoke({\"qa_string\": qa_string, \"categorized_qa\": categorized_qa})"
   ]
  },
  {
   "cell_type": "code",
   "execution_count": 15,
   "metadata": {},
   "outputs": [
    {
     "name": "stdout",
     "output_type": "stream",
     "text": [
      "I've been dealing with diarrhea lately, and it's been quite a hassle. It doesn't happen when I'm fasting, but it does wake me up at night. Thankfully, there's no pain involved, but I did have my last bowel movement just three hours ago. On average, I'm going about 3 to 4 times a day. There's no blood in my stool, but I have noticed some mucus. And when I feel the urge, I really have to rush to the bathroom.\n"
     ]
    }
   ],
   "source": [
    "### Generate Summaries\n",
    "\n",
    "# Initialize the llm\n",
    "llm = ChatOpenAI(model='gpt-4o', temperature=0)\n",
    "\n",
    "summ_system = \"\"\"\n",
    "You are given a category and a set of questions and answers related to that category. Your task is to convert these questions and answers into a natural, conversational response as if someone is summarizing their situation based on the answers provided.\n",
    "\n",
    "Instructions:\n",
    "1. Use the answers to infer a coherent response that sounds natural and conversational.\n",
    "2. Incorporate relevant details from both the questions and answers.\n",
    "3. Avoid directly repeating the questions; instead, focus on integrating the information into a fluid conversation.\n",
    "\n",
    "Output format:\n",
    "- The response should be a short, concise paragraph that summarizes the answers in a conversational tone.\n",
    "\n",
    "Please convert the given category and Q&A pairs into a conversational summary.\n",
    "\n",
    "Input:\n",
    "- Category: {category}\n",
    "- Q&A Pairs:\n",
    "{q_and_a_pairs}\n",
    "\"\"\"\n",
    "\n",
    "# Create the prompt template\n",
    "summ_prompt = ChatPromptTemplate.from_messages(\n",
    "    [\n",
    "        (\"system\", summ_system), \n",
    "        (\"human\", \"Category: {category} \\n\\n Q&A pairs: {q_and_a_pairs}\")\n",
    "    ]\n",
    ")\n",
    "\n",
    "summary_chain = summ_prompt | llm | StrOutputParser()\n",
    "\n",
    "summ_result = summary_chain.invoke({'category': 'Diarrhea', 'q_and_a_pairs': categorized_dict['Diarrhea']})\n",
    "print(summ_result)\n"
   ]
  },
  {
   "cell_type": "code",
   "execution_count": 16,
   "metadata": {},
   "outputs": [
    {
     "data": {
      "text/plain": [
       "SummaryGrader(binary_score='correct')"
      ]
     },
     "execution_count": 16,
     "metadata": {},
     "output_type": "execute_result"
    }
   ],
   "source": [
    "### Summaries Grader\n",
    "\n",
    "# Data Model\n",
    "class SummaryGrader(BaseModel):\n",
    "    \"\"\"Binary score to assess if the response is a natural, conversational response or not and if there is any missing information or hallucinations\"\"\"\n",
    "\n",
    "    binary_score: str = Field(\n",
    "        description=\"A binary indicator ('correct' or 'incorrect') that evaluates if the response is a natural, conversational response or not without any missing information or hallucinations.\"\n",
    "    )\n",
    "\n",
    "# Initialize the llm\n",
    "summ_grader_llm = ChatOpenAI(model='gpt-4o', temperature=0)\n",
    "summ_grader_structured_llm_grader = summ_grader_llm.with_structured_output(SummaryGrader)\n",
    "\n",
    "# System Prompt\n",
    "summ_grader_system = \"\"\"You are a grader assessing whether the response is a natural, conversational response as if someone is summarizing their situation or not. \\n\n",
    "You must also check if all the questions and answers have been included. Check for hallucinations as well. \\n\n",
    "Give a binary score 'correct' or 'incorrect'. 'correct' means that the Q&A pairs are correctly incorporated in the response without any missing information or hallucinations.\n",
    "\"\"\"\n",
    "\n",
    "answer_prompt = ChatPromptTemplate.from_messages(\n",
    "    [\n",
    "        (\"system\", summ_grader_system), \n",
    "        (\"human\", \"Q&A pairs: {q_and_a_pairs} \\n\\n Response: {response}\")\n",
    "    ]\n",
    ")\n",
    "\n",
    "summary_grader = answer_prompt | summ_grader_structured_llm_grader \n",
    "summary_grader.invoke({\"q_and_a_pairs\": categorized_dict['Diarrhea'], \"response\": summ_result})"
   ]
  },
  {
   "cell_type": "code",
   "execution_count": 17,
   "metadata": {},
   "outputs": [
    {
     "data": {
      "text/plain": [
       "{'Symptoms Onset': 'q: When did your symptoms start?\\na: Yesterday night',\n",
       " 'Vomiting': 'q: Do you have vomiting?\\na: Yes\\nq: Do you see any blood in the vomit?\\na: No\\nq: Was your vomit green or yellow?\\na: Yes',\n",
       " 'Recreational Drugs': 'q: Have you used any recreational drugs recently?\\na: Yes',\n",
       " 'Motion Sickness': 'q: Have you recently experienced motion sickness from things like amusement park rides, cars, or boats?\\na: No',\n",
       " 'Diarrhea': 'q: Do you have diarrhea?\\na: Yes\\nq: Does the diarrhea occur when fasting?\\na: No\\nq: Does the diarrhea occur at night?\\na: Yes\\nq: Do you experience pain with diarrhea?\\na: No\\nq: When was your last bowel movement?\\na: 3 hours ago\\nq: How many bowel movements are you having per 24hr period?\\na: 3-4\\nq: Is there any blood in your stool?\\na: No\\nq: Is there any mucus in your stool?\\na: Yes\\nq: Do you feel as though you have to rush to the bathroom once you have the urge to have a bowel movement?\\na: Yes',\n",
       " 'Travel History': 'q: Have you recently traveled internationally?\\na: No',\n",
       " 'Household Symptoms': 'q: Does anyone else in your household have the same symptoms?\\na: Yes',\n",
       " 'Symptom Management': 'q: What have you tried for your symptoms?\\na: Taking some probiotics\\nq: Did it help?\\na: No',\n",
       " 'Location': 'q: What state are you currently in (e.g., Wisconsin, Minnesota)?\\na: Wisconsin'}"
      ]
     },
     "execution_count": 17,
     "metadata": {},
     "output_type": "execute_result"
    }
   ],
   "source": [
    "categorized_dict"
   ]
  },
  {
   "cell_type": "code",
   "execution_count": 18,
   "metadata": {},
   "outputs": [
    {
     "data": {
      "text/plain": [
       "{'Symptoms Onset': 'I started feeling symptoms just last night.',\n",
       " 'Vomiting': \"I've been experiencing some vomiting lately. Thankfully, there's no blood in it, but the vomit has been green or yellow.\",\n",
       " 'Recreational Drugs': 'Yeah, I have used some recreational drugs recently.',\n",
       " 'Motion Sickness': \"I haven't had any issues with motion sickness lately, whether it's from amusement park rides, cars, or boats.\",\n",
       " 'Diarrhea': \"I've been dealing with diarrhea lately, and it's been quite a hassle. It doesn't happen when I'm fasting, but it does wake me up at night. Thankfully, there's no pain involved, but I had my last bowel movement just three hours ago, and I'm going about 3-4 times a day. There's no blood in my stool, but I have noticed some mucus. And when I feel the urge, I really have to rush to the bathroom.\",\n",
       " 'Travel History': \"I haven't traveled internationally recently.\",\n",
       " 'Household Symptoms': \"It seems like the symptoms I'm experiencing aren't just affecting me; others in my household are dealing with the same thing too.\",\n",
       " 'Symptom Management': \"I've been dealing with some symptoms lately and decided to try taking probiotics to see if they would help. Unfortunately, they didn't make any difference.\",\n",
       " 'Location': \"I'm currently in Wisconsin.\"}"
      ]
     },
     "execution_count": 18,
     "metadata": {},
     "output_type": "execute_result"
    }
   ],
   "source": [
    "summaries = {}\n",
    "for category in categorized_dict:\n",
    "    summ_result = summary_chain.invoke({'category': category, 'q_and_a_pairs': categorized_dict[category]})\n",
    "    summaries[category] = summ_result\n",
    "summaries"
   ]
  },
  {
   "cell_type": "code",
   "execution_count": 19,
   "metadata": {},
   "outputs": [
    {
     "name": "stdout",
     "output_type": "stream",
     "text": [
      "correct\n",
      "---SUMMARY FOR Symptoms Onset IS CORRECT---\n",
      "correct\n",
      "---SUMMARY FOR Vomiting IS CORRECT---\n",
      "correct\n",
      "---SUMMARY FOR Recreational Drugs IS CORRECT---\n",
      "correct\n",
      "---SUMMARY FOR Motion Sickness IS CORRECT---\n",
      "correct\n",
      "---SUMMARY FOR Diarrhea IS CORRECT---\n",
      "correct\n",
      "---SUMMARY FOR Travel History IS CORRECT---\n",
      "correct\n",
      "---SUMMARY FOR Household Symptoms IS CORRECT---\n",
      "correct\n",
      "---SUMMARY FOR Symptom Management IS CORRECT---\n",
      "correct\n",
      "---SUMMARY FOR Location IS CORRECT---\n"
     ]
    }
   ],
   "source": [
    "incorrect_summary_cats = []\n",
    "for category in categorized_dict:\n",
    "    score = summary_grader.invoke({\"q_and_a_pairs\": categorized_dict[category], \"response\": summaries[category]})\n",
    "    grade = score.binary_score\n",
    "    print(grade)\n",
    "    if grade == 'correct': \n",
    "        print(f'---SUMMARY FOR {category} IS CORRECT---')\n",
    "        continue\n",
    "    else:\n",
    "        print(f'---SUMMARY FOR {category} IS INCORRECT---')\n",
    "        incorrect_summary_cats.append(category)"
   ]
  },
  {
   "cell_type": "markdown",
   "metadata": {},
   "source": [
    "## Graph"
   ]
  },
  {
   "cell_type": "code",
   "execution_count": 20,
   "metadata": {},
   "outputs": [],
   "source": [
    "class GraphState(TypedDict):\n",
    "    \"\"\"\n",
    "    Represents the state of our graph.\n",
    "\n",
    "    Attributes:\n",
    "        qa_string: Question and answer string (Input to the Model)\n",
    "    \"\"\"\n",
    "    qa_string: str\n",
    "    categorized_qa: str\n",
    "    categorized_dict: Dict[str, str]\n",
    "    summaries: Dict[str, str]\n",
    "    incorrect_summary_cats: List[str]\n",
    "    regen_summaries: Dict[str, str]"
   ]
  },
  {
   "cell_type": "code",
   "execution_count": 26,
   "metadata": {},
   "outputs": [],
   "source": [
    "### Nodes\n",
    "\n",
    "def split_qa(state):\n",
    "    print(\"----SPLITTING INTO CATEGORIES---\")\n",
    "    qa_string = state['qa_string']\n",
    "\n",
    "    # invoke rag chain\n",
    "    split_result = categorize_chain.invoke({'input_text': qa_string})\n",
    "    # Run the function to parse the result\n",
    "    categorized_qa, categorized_dict = parse_split_result(result=split_result)\n",
    "\n",
    "    return {\"categorized_qa\": categorized_qa, \"categorized_dict\": categorized_dict}\n",
    "\n",
    "def grade_split(state):\n",
    "    print(\"---CHECK IF SPLITS ARE RELEVANT---\")\n",
    "    # Get the categorized_qa and categorized_dict\n",
    "    categorized_qa = state['categorized_qa']\n",
    "    categorized_dict = state['categorized_dict']\n",
    "    # Get the score\n",
    "    score = split_grader.invoke({\"qa_string\": qa_string, \"categorized_qa\": categorized_qa})\n",
    "    grade = score.binary_score\n",
    "\n",
    "    # Check is splits are relevant\n",
    "    if grade == 'correct':\n",
    "        print('---DECISION: SPLITS ARE RELEVANT---')\n",
    "        return 'correct splits'\n",
    "    else:\n",
    "        return 'incorrect splits'\n",
    "    \n",
    "def generate_summaries(state):\n",
    "    print(\"---GENERATING SUMMARIES---\")\n",
    "    # Get the categorized dict\n",
    "    categorized_dict = state['categorized_dict']\n",
    "    summaries = {}\n",
    "    for category in categorized_dict:\n",
    "        summ_result = summary_chain.invoke({'category': category, 'q_and_a_pairs': categorized_dict[category]})\n",
    "        summaries[category] = summ_result\n",
    "\n",
    "    return {'summaries': summaries}\n",
    "\n",
    "def grade_summaries(state):\n",
    "    print(\"---GRADING GENERATED SUMMARIES---\")\n",
    "    # Get the categorized dict and the summaries\n",
    "    categorized_dict = state['categorized_dict']\n",
    "    summaries = state['summaries']\n",
    "    incorrect_summary_cats = []\n",
    "    for category in categorized_dict:\n",
    "        score = summary_grader.invoke({\"q_and_a_pairs\": categorized_dict[category], \"response\": summaries[category]})\n",
    "        grade = score.binary_score\n",
    "        if grade == 'correct': \n",
    "            print(f'---SUMMARY FOR {category} IS CORRECT---')\n",
    "            continue\n",
    "        else:\n",
    "            print(f'---SUMMARY FOR {category} IS INCORRECT---')\n",
    "            incorrect_summary_cats.append(category)\n",
    "\n",
    "    return {'incorrect_summary_cats': incorrect_summary_cats, 'summaries': summaries}\n",
    "\n",
    "def decide_to_regenerate(state):\n",
    "    print('---ASSESS WHETHER TO PROCEED OR REGENERATE---')\n",
    "    # Get the incorrect_summary_cats dict\n",
    "    incorrect_summary_cats = state['incorrect_summary_cats']\n",
    "    if not incorrect_summary_cats: \n",
    "        print(\"---DECISION: ALL SUMMARIES ARE CORRECT (PROCEED)---\")\n",
    "        return 'continue'\n",
    "    else:\n",
    "        print(\"---DECISION: SOME SUMMARIES ARE INCORRECT (REGENERATE)---\")\n",
    "        return 'regen summaries'\n",
    "    \n",
    "def correct_summaries(state):\n",
    "    print(\"---REGENERATING INCORRECT SUMMARIES---\")\n",
    "    # Get the categorized dict, the summaries and the incorrect summaries categories\n",
    "    categorized_dict = state['categorized_dict']\n",
    "    summaries = state['summaries']\n",
    "    incorrect_summary_cats = state['incorrect_summary_cats']\n",
    "    regen_summaries = {}\n",
    "    for category in incorrect_summary_cats:\n",
    "        summ_result = summary_chain.invoke({'category': category, 'q_and_a_pairs': categorized_dict[category]})\n",
    "        regen_summaries[category] = summ_result\n",
    "    \n",
    "    return {'regen_summaries': regen_summaries}\n",
    "\n",
    "def grade_regen_summaries(state): \n",
    "    print(\"---GRADING REGENERATED SUMMARIES---\")\n",
    "    # Get the categorized dict, regenerated summaries and summaries\n",
    "    categorized_dict = state['categorized_dict']\n",
    "    summaries = state['summaries']\n",
    "    regen_summaries = state['regen_summaries']\n",
    "    incorrect_summary_cats = []\n",
    "    for category in regen_summaries:\n",
    "        score = summary_grader.invoke({\"q_and_a_pairs\": categorized_dict[category], \"response\": regen_summaries[category]})\n",
    "        grade = score.binary_score\n",
    "        if grade == 'correct':\n",
    "            print(f'---REGENERATED SUMMARY FOR {category} IS CORRECT---')\n",
    "            summaries[category] = regen_summaries[category]\n",
    "            continue\n",
    "        else:\n",
    "            print(f'---REGENERATED SUMMARY FOR {category} IS INCORRECT---')\n",
    "            incorrect_summary_cats.append(category)\n",
    "    return {'summaries': summaries, 'incorrect_summary_cats': incorrect_summary_cats}"
   ]
  },
  {
   "cell_type": "markdown",
   "metadata": {},
   "source": [
    "## Build Graph"
   ]
  },
  {
   "cell_type": "code",
   "execution_count": 27,
   "metadata": {},
   "outputs": [],
   "source": [
    "from langgraph.graph import END, StateGraph, START\n",
    "\n",
    "workflow = StateGraph(GraphState)\n",
    "\n",
    "# Define the nodes\n",
    "workflow.add_node(\"split_qa\", split_qa)\n",
    "workflow.add_node(\"generate_summaries\", generate_summaries)\n",
    "workflow.add_node(\"correct_summaries\", correct_summaries)\n",
    "workflow.add_node(\"grade_regen_summaries\", grade_regen_summaries)\n",
    "workflow.add_node('grade_summaries', grade_summaries)\n",
    "\n",
    "# Build the graph\n",
    "workflow.add_edge(START, 'split_qa')\n",
    "workflow.add_conditional_edges(\n",
    "    'split_qa', \n",
    "    grade_split, \n",
    "    {\n",
    "        'correct splits': 'generate_summaries',\n",
    "        'incorrect splits': 'split_qa'\n",
    "    },\n",
    ")\n",
    "workflow.add_edge('generate_summaries', 'grade_summaries')\n",
    "workflow.add_conditional_edges(\n",
    "    'grade_summaries', \n",
    "    decide_to_regenerate,\n",
    "    {\n",
    "        'continue': END,\n",
    "        'regen summaries': 'correct_summaries'\n",
    "    }\n",
    ")\n",
    "workflow.add_edge('correct_summaries', 'grade_regen_summaries')\n",
    "workflow.add_conditional_edges(\n",
    "    'grade_regen_summaries', \n",
    "    decide_to_regenerate, \n",
    "    {\n",
    "        'continue': END, \n",
    "        'regen summaries': 'correct_summaries'\n",
    "    }\n",
    ")\n",
    "\n",
    "# Compile\n",
    "app = workflow.compile()"
   ]
  },
  {
   "cell_type": "code",
   "execution_count": 28,
   "metadata": {},
   "outputs": [
    {
     "data": {
      "image/png": "[encoded data removed]",
      "text/plain": [
       "<IPython.core.display.Image object>"
      ]
     },
     "execution_count": 28,
     "metadata": {},
     "output_type": "execute_result"
    }
   ],
   "source": [
    "# See the graph\n",
    "Image(app.get_graph().draw_png())"
   ]
  },
  {
   "cell_type": "code",
   "execution_count": 29,
   "metadata": {},
   "outputs": [
    {
     "data": {
      "text/plain": [
       "'q: When did your symptoms start?\\na: Yesterday night\\nq: Do you have vomiting?\\na: Yes\\nq: Do you see any blood in the vomit?\\na: No\\nq: Was your vomit green or yellow?\\na: Yes\\nq: Have you used any recreational drugs recently?\\na: Yes\\nq: Have you recently experienced motion sickness from things like amusement park rides, cars, or boats?\\na: No\\nq: Do you have diarrhea?\\na: Yes\\nq: Does the diarrhea occur when fasting?\\na: No\\nq: Does the diarrhea occur at night?\\na: Yes\\nq: Do you experience pain with diarrhea?\\na: No\\nq: When was your last bowel movement?\\na: 3 hours ago\\nq: How many bowel movements are you having per 24hr period?\\na: 3-4\\nq: Is there any blood in your stool?\\na: No\\nq: Is there any mucus in your stool?\\na: Yes\\nq: Do you feel as though you have to rush to the bathroom once you have the urge to have a bowel movement?\\na: Yes\\nq: Have you recently traveled internationally?\\na: No\\nq: Does anyone else in your household have the same symptoms?\\na: Yes\\nq: What have you tried for your symptoms?\\na: Taking some probiotics\\nq: Did it help?\\na: No\\nq: What state are you currently in (e.g., Wisconsin, Minnesota)?\\na: Wisconsin\\n'"
      ]
     },
     "execution_count": 29,
     "metadata": {},
     "output_type": "execute_result"
    }
   ],
   "source": [
    "qa_string"
   ]
  },
  {
   "cell_type": "code",
   "execution_count": 30,
   "metadata": {},
   "outputs": [
    {
     "name": "stdout",
     "output_type": "stream",
     "text": [
      "----SPLITTING INTO CATEGORIES---\n",
      "---CHECK IF SPLITS ARE RELEVANT---\n",
      "---DECISION: SPLITS ARE RELEVANT---\n",
      "\"Node 'split_qa':\"\n",
      "'\\n---\\n'\n",
      "---GENERATING SUMMARIES---\n",
      "\"Node 'generate_summaries':\"\n",
      "'\\n---\\n'\n",
      "---GRADING GENERATED SUMMARIES---\n",
      "---SUMMARY FOR Symptoms Onset IS INCORRECT---\n",
      "---SUMMARY FOR Vomiting IS INCORRECT---\n",
      "---SUMMARY FOR Recreational Drugs IS INCORRECT---\n",
      "---SUMMARY FOR Motion Sickness IS INCORRECT---\n",
      "---SUMMARY FOR Diarrhea IS INCORRECT---\n",
      "---SUMMARY FOR Travel History IS INCORRECT---\n",
      "---SUMMARY FOR Household Symptoms IS INCORRECT---\n",
      "---SUMMARY FOR Treatment IS INCORRECT---\n",
      "---SUMMARY FOR Location IS INCORRECT---\n",
      "---ASSESS WHETHER TO PROCEED OR REGENERATE---\n",
      "---DECISION: SOME SUMMARIES ARE INCORRECT (REGENERATE)---\n",
      "\"Node 'grade_summaries':\"\n",
      "'\\n---\\n'\n",
      "---REGENERATING INCORRECT SUMMARIES---\n",
      "\"Node 'correct_summaries':\"\n",
      "'\\n---\\n'\n",
      "---GRADING REGENERATED SUMMARIES---\n",
      "---REGENERATED SUMMARY FOR Symptoms Onset IS CORRECT---\n",
      "---REGENERATED SUMMARY FOR Vomiting IS CORRECT---\n",
      "---REGENERATED SUMMARY FOR Recreational Drugs IS CORRECT---\n",
      "---REGENERATED SUMMARY FOR Motion Sickness IS CORRECT---\n",
      "---REGENERATED SUMMARY FOR Diarrhea IS CORRECT---\n",
      "---REGENERATED SUMMARY FOR Travel History IS CORRECT---\n",
      "---REGENERATED SUMMARY FOR Household Symptoms IS CORRECT---\n",
      "---REGENERATED SUMMARY FOR Treatment IS CORRECT---\n",
      "---REGENERATED SUMMARY FOR Location IS CORRECT---\n",
      "---ASSESS WHETHER TO PROCEED OR REGENERATE---\n",
      "---DECISION: ALL SUMMARIES ARE CORRECT (PROCEED)---\n",
      "\"Node 'grade_regen_summaries':\"\n",
      "'\\n---\\n'\n",
      "{'Diarrhea': \"I've been dealing with diarrhea lately, and it's been quite a \"\n",
      "             \"hassle. It doesn't happen when I'm fasting, but it does wake me \"\n",
      "             \"up at night. Thankfully, there's no pain involved, but I did \"\n",
      "             'have my last bowel movement just three hours ago. On average, '\n",
      "             \"I'm going about 3 to 4 times a day. There's no blood in my \"\n",
      "             'stool, but I have noticed some mucus. And when I feel the urge, '\n",
      "             'I really have to rush to the bathroom.',\n",
      " 'Household Symptoms': \"It seems like the symptoms I'm experiencing aren't \"\n",
      "                       'just affecting me; others in my household are dealing '\n",
      "                       'with the same thing too.',\n",
      " 'Location': \"I'm currently in Wisconsin.\",\n",
      " 'Motion Sickness': \"I haven't had any issues with motion sickness lately, \"\n",
      "                    \"whether it's from amusement park rides, cars, or boats.\",\n",
      " 'Recreational Drugs': 'Yeah, I have used some recreational drugs recently.',\n",
      " 'Symptoms Onset': 'My symptoms actually started just last night.',\n",
      " 'Travel History': \"I haven't traveled internationally recently.\",\n",
      " 'Treatment': \"I've been dealing with some symptoms and decided to try taking \"\n",
      "              \"probiotics to see if they'd help. Unfortunately, they didn't \"\n",
      "              'make any difference for me.',\n",
      " 'Vomiting': \"I've been experiencing some vomiting lately. Thankfully, there's \"\n",
      "             'no blood in it, but the vomit has been green or yellow.'}\n"
     ]
    }
   ],
   "source": [
    "inputs = {\"qa_string\": qa_string}\n",
    "for output in app.stream(inputs):\n",
    "    for key, value in output.items():\n",
    "        # Node\n",
    "        pprint(f\"Node '{key}':\")\n",
    "    pprint(\"\\n---\\n\")\n",
    "pprint(value['summaries'])"
   ]
  },
  {
   "cell_type": "code",
   "execution_count": 31,
   "metadata": {},
   "outputs": [
    {
     "data": {
      "text/plain": [
       "{'Symptoms Onset': 'My symptoms actually started just last night.',\n",
       " 'Vomiting': \"I've been experiencing some vomiting lately. Thankfully, there's no blood in it, but the vomit has been green or yellow.\",\n",
       " 'Recreational Drugs': 'Yeah, I have used some recreational drugs recently.',\n",
       " 'Motion Sickness': \"I haven't had any issues with motion sickness lately, whether it's from amusement park rides, cars, or boats.\",\n",
       " 'Diarrhea': \"I've been dealing with diarrhea lately, and it's been quite a hassle. It doesn't happen when I'm fasting, but it does wake me up at night. Thankfully, there's no pain involved, but I did have my last bowel movement just three hours ago. On average, I'm going about 3 to 4 times a day. There's no blood in my stool, but I have noticed some mucus. And when I feel the urge, I really have to rush to the bathroom.\",\n",
       " 'Travel History': \"I haven't traveled internationally recently.\",\n",
       " 'Household Symptoms': \"It seems like the symptoms I'm experiencing aren't just affecting me; others in my household are dealing with the same thing too.\",\n",
       " 'Treatment': \"I've been dealing with some symptoms and decided to try taking probiotics to see if they'd help. Unfortunately, they didn't make any difference for me.\",\n",
       " 'Location': \"I'm currently in Wisconsin.\"}"
      ]
     },
     "execution_count": 31,
     "metadata": {},
     "output_type": "execute_result"
    }
   ],
   "source": [
    "value['summaries']"
   ]
  },
  {
   "cell_type": "code",
   "execution_count": null,
   "metadata": {},
   "outputs": [],
   "source": []
  }
 ],
 "metadata": {
  "kernelspec": {
   "display_name": "base",
   "language": "python",
   "name": "python3"
  },
  "language_info": {
   "codemirror_mode": {
    "name": "ipython",
    "version": 3
   },
   "file_extension": ".py",
   "mimetype": "text/x-python",
   "name": "python",
   "nbconvert_exporter": "python",
   "pygments_lexer": "ipython3",
   "version": "3.10.12"
  }
 },
 "nbformat": 4,
 "nbformat_minor": 2
}
